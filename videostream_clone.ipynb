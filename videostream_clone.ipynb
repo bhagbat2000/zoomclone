{
 "cells": [
  {
   "cell_type": "code",
   "execution_count": null,
   "metadata": {},
   "outputs": [
    {
     "name": "stderr",
     "output_type": "stream",
     "text": [
      "Exception in thread Thread-11:\n",
      "Traceback (most recent call last):\n",
      "  File \"C:\\Users\\Bhagabat\\Anaconda31\\lib\\threading.py\", line 917, in _bootstrap_inner\n",
      "    self.run()\n",
      "  File \"C:\\Users\\Bhagabat\\Anaconda31\\lib\\threading.py\", line 865, in run\n",
      "    self._target(*self._args, **self._kwargs)\n",
      "  File \"C:\\Users\\Bhagabat\\Anaconda31\\lib\\site-packages\\vidstream\\streaming.py\", line 269, in __client_streaming\n",
      "    self.__client_socket.connect((self.__host, self.__port))\n",
      "TimeoutError: [WinError 10060] A connection attempt failed because the connected party did not properly respond after a period of time, or established connection failed because connected host has failed to respond\n",
      "\n"
     ]
    }
   ],
   "source": [
    "from vidstream import *\n",
    "import tkinter as tk\n",
    "import socket\n",
    "import threading\n",
    "import requests\n",
    "\n",
    "local_ip_adress=socket.gethostbyname(socket.gethostname())\n",
    "\n",
    "server=StreamingServer(local_ip_adress,7777)\n",
    "receiver= AudioReceiver(local_ip_adress,1111)\n",
    "\n",
    "def start_listening():\n",
    "    t1=threading.Thread(target=server.start_server)\n",
    "    t2=threading.Thread(target=receiver.start_server)\n",
    "    t1.start()\n",
    "    t2.start()\n",
    "\n",
    "\n",
    "def start_camera_stream():\n",
    "    camera_client=CameraClient(text_target_ip.get(1.0,'end-1c'),9999)\n",
    "    t3=threading.Thread(target=camera_client.start_stream)\n",
    "    t3.start()\n",
    "\n",
    "def start_screen_shairing():\n",
    "    screen_client=ScreenShareClient(text_target_ip.get(1.0,'end-1c'),9999)\n",
    "    t4=threading.Thread(target=screen_client.start_stream)\n",
    "    t4.start()\n",
    "\n",
    "def start_audio_stream():\n",
    "    audio_sender=AudioSender(text_target_ip.get(1.0,'end-1c'),8888)\n",
    "    t5=threading.Thread(target=audio_sender.start_stream)\n",
    "    t5.start()\n",
    "\n",
    "# GUI\n",
    "\n",
    "window=tk.Tk()\n",
    "window.title(\"Zoomclone\")\n",
    "window.geometry('300x200')\n",
    "\n",
    "label_target_ip=tk.Label(window,text='Target IP:')\n",
    "label_target_ip.pack()\n",
    "\n",
    "text_target_ip=tk.Text(window,height=1)\n",
    "text_target_ip.pack()\n",
    "\n",
    "btn_listen=tk.Button(window,text=\"Start Listening\",width=50,command=start_listening)\n",
    "btn_listen.pack(anchor=tk.CENTER,expand=True)\n",
    "\n",
    "btn_camera=tk.Button(window,text=\"Start Camera Stream\",width=50,command=start_camera_stream)\n",
    "btn_camera.pack(anchor=tk.CENTER,expand=True)\n",
    "\n",
    "btn_screen=tk.Button(window,text=\"Start Screen Sharing\",width=50,command=start_screen_shairing)\n",
    "btn_screen.pack(anchor=tk.CENTER,expand=True)\n",
    "\n",
    "btn_audio=tk.Button(window,text=\"Start Audio Stream\",width=50,command=start_audio_stream)\n",
    "btn_listen.pack(anchor=tk.CENTER,expand=True)\n",
    "\n",
    "window.mainloop()"
   ]
  },
  {
   "cell_type": "code",
   "execution_count": null,
   "metadata": {},
   "outputs": [],
   "source": []
  }
 ],
 "metadata": {
  "kernelspec": {
   "display_name": "Python 3",
   "language": "python",
   "name": "python3"
  },
  "language_info": {
   "codemirror_mode": {
    "name": "ipython",
    "version": 3
   },
   "file_extension": ".py",
   "mimetype": "text/x-python",
   "name": "python",
   "nbconvert_exporter": "python",
   "pygments_lexer": "ipython3",
   "version": "3.7.1"
  }
 },
 "nbformat": 4,
 "nbformat_minor": 2
}
